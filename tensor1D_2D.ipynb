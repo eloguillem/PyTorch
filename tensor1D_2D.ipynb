{
 "cells": [
  {
   "cell_type": "markdown",
   "metadata": {},
   "source": [
    "<h1>Torch Tensors in 1D</h1>\n",
    "cf IBM courses."
   ]
  },
  {
   "cell_type": "markdown",
   "metadata": {},
   "source": [
    "<h2>Objective</h2><ul><li> How tensor operations work in pytorch.</li></ul> \n",
    "<h2>Preparation</h2>\n"
   ]
  },
  {
   "cell_type": "code",
   "execution_count": 1,
   "metadata": {},
   "outputs": [],
   "source": [
    "# These are the libraries will be used for this lab.\n",
    "\n",
    "import torch \n",
    "import numpy as np \n",
    "import pandas as pd\n",
    "\n",
    "import matplotlib.pyplot as plt\n",
    "%matplotlib inline  "
   ]
  },
  {
   "cell_type": "markdown",
   "metadata": {},
   "source": [
    "<h2 id=\"Types_Shape\">Types and Shape</h2>\n"
   ]
  },
  {
   "cell_type": "markdown",
   "metadata": {},
   "source": [
    "You can create a tensor of integers <i>[0, 1, 2, 3, 4]</i> by applying the constructor <code>torch.tensor()</code>.\n",
    "To do the same with float numbers replace the integers into floats and observe the new tensor type:"
   ]
  },
  {
   "cell_type": "code",
   "execution_count": 2,
   "metadata": {},
   "outputs": [
    {
     "name": "stdout",
     "output_type": "stream",
     "text": [
      "The type of tensor object after converting it to tensor:  torch.LongTensor\n"
     ]
    }
   ],
   "source": [
    "# Convert a integer list with length 5 to a tensor\n",
    "\n",
    "ints_to_tensor = torch.tensor([0, 1, 2, 3, 4])\n",
    "print(\"The type of tensor object after converting it to tensor: \", ints_to_tensor.type())"
   ]
  },
  {
   "cell_type": "code",
   "execution_count": 3,
   "metadata": {},
   "outputs": [
    {
     "name": "stdout",
     "output_type": "stream",
     "text": [
      "The type of the new_float_tensor: torch.FloatTensor\n"
     ]
    }
   ],
   "source": [
    "# Another method to convert the integer list to float tensor\n",
    "\n",
    "old_int_tensor = torch.tensor([0, 1, 2, 3, 4, 5, 6])\n",
    "new_float_tensor = old_int_tensor.type(torch.FloatTensor)\n",
    "print(\"The type of the new_float_tensor:\", new_float_tensor.type())"
   ]
  },
  {
   "cell_type": "markdown",
   "metadata": {},
   "source": [
    " <code><i>.size()</i></code> helps you to find out the size of the <code><i>tensor_obj</i></code>.\n",
    " \n",
    " <code><i>.ndimension()</i></code> shows the dimension of the tensor object."
   ]
  },
  {
   "cell_type": "code",
   "execution_count": 4,
   "metadata": {},
   "outputs": [
    {
     "name": "stdout",
     "output_type": "stream",
     "text": [
      "\n",
      "The size of the new_float_tensor:  torch.Size([7])\n",
      "\n",
      "The dimension of the new_float_tensor:  1\n"
     ]
    }
   ],
   "source": [
    "# Introduce the tensor_obj.size() & tensor_ndimension.size() methods\n",
    "\n",
    "print(\"\\nThe size of the new_float_tensor: \", new_float_tensor.size())\n",
    "print(\"\\nThe dimension of the new_float_tensor: \",new_float_tensor.ndimension())"
   ]
  },
  {
   "cell_type": "markdown",
   "metadata": {},
   "source": [
    "You can also convert a <b>numpy</b> array to a <b>tensor</b> (as well as Pandas series, but not explained here), for example: \n"
   ]
  },
  {
   "cell_type": "code",
   "execution_count": 5,
   "metadata": {},
   "outputs": [
    {
     "name": "stdout",
     "output_type": "stream",
     "text": [
      "The previous float tensor :  tensor([0., 1., 2., 3., 4., 5., 6.])\n",
      "The numpy array from tensor:  [0. 1. 2. 3. 4. 5. 6.]\n",
      "The dtype of numpy array:  <class 'numpy.ndarray'>\n"
     ]
    }
   ],
   "source": [
    "# Convert a tensor to a numpy array\n",
    "\n",
    "back_to_numpy = new_float_tensor.numpy()\n",
    "print(\"The previous float tensor : \",new_float_tensor)\n",
    "print(\"The numpy array from tensor: \", back_to_numpy)\n",
    "print(\"The dtype of numpy array: \", type(back_to_numpy))"
   ]
  },
  {
   "cell_type": "markdown",
   "metadata": {},
   "source": [
    "we can use the method <code> tolist()</code> to return a list \n"
   ]
  },
  {
   "cell_type": "code",
   "execution_count": 8,
   "metadata": {},
   "outputs": [
    {
     "name": "stdout",
     "output_type": "stream",
     "text": [
      "tensor: tensor([0., 1., 2., 3., 4., 5., 6.]) \n",
      "list: [0.0, 1.0, 2.0, 3.0, 4.0, 5.0, 6.0]\n"
     ]
    }
   ],
   "source": [
    "torch_to_list=new_float_tensor.tolist()\n",
    "\n",
    "print('tensor:',new_float_tensor,\"\\nlist:\",torch_to_list)"
   ]
  },
  {
   "cell_type": "markdown",
   "metadata": {},
   "source": [
    "<h3>Practice</h3>\n"
   ]
  },
  {
   "cell_type": "code",
   "execution_count": null,
   "metadata": {},
   "outputs": [],
   "source": [
    "# Practice: \n",
    "# 1. Create a tensor of integers of the size you want\n",
    "# 2. Convert the previous integer tensor to float tensor\n",
    "# 3. Convert it to a numpy array\n",
    "\n"
   ]
  },
  {
   "cell_type": "markdown",
   "metadata": {},
   "source": [
    "Double-click <b>here</b> for the solution.\n",
    "\n",
    "<!-- \n",
    "your_tensor = torch.tensor([4,2,3,7,1,9])\n",
    "new_float_tensor = your_tensor.type(torch.FloatTensor)\n",
    "print(new_float_tensor)\n",
    "converted_tensor = your_tensor.numpy()\n",
    "print(\"Your tensor : \",your_tensor, \"\\n Converted tensor in numpy array : \", converted_tensor)\n",
    "-->"
   ]
  },
  {
   "cell_type": "markdown",
   "metadata": {},
   "source": [
    "<h2 id=\"Index_Slice\">Indexing and Slicing</h2>"
   ]
  },
  {
   "cell_type": "code",
   "execution_count": 9,
   "metadata": {},
   "outputs": [
    {
     "name": "stdout",
     "output_type": "stream",
     "text": [
      "X =  tensor([ 0,  1,  2,  3,  4,  5,  6,  7,  8,  9, 10, 11])\n"
     ]
    }
   ],
   "source": [
    "X = torch.arange(12)\n",
    "print(\"X = \", X)"
   ]
  },
  {
   "cell_type": "markdown",
   "metadata": {},
   "source": [
    "You can access and modify the content of an index:"
   ]
  },
  {
   "cell_type": "code",
   "execution_count": 10,
   "metadata": {},
   "outputs": [
    {
     "name": "stdout",
     "output_type": "stream",
     "text": [
      "X =  tensor([100,   1,   2,   3,   4,   5,   6,   7,   8,   9,  10,  11])\n"
     ]
    }
   ],
   "source": [
    "# Change of the first value\n",
    "X[0] = 100\n",
    "print(\"X = \", X)"
   ]
  },
  {
   "cell_type": "markdown",
   "metadata": {},
   "source": [
    "The method <code>item()</code> returns the value of this tensor as a standard Python number. This only works for one element. "
   ]
  },
  {
   "cell_type": "code",
   "execution_count": 11,
   "metadata": {},
   "outputs": [
    {
     "name": "stdout",
     "output_type": "stream",
     "text": [
      "The first item of X is given by 100 , the first tensor value of X is given by tensor(100)\n"
     ]
    }
   ],
   "source": [
    "print(\"The first item of X is given by\",X[0].item(),\", the first tensor value of X is given by\",X[0])"
   ]
  },
  {
   "cell_type": "markdown",
   "metadata": {},
   "source": [
    "You can slice your tensor such as in numpy :"
   ]
  },
  {
   "cell_type": "code",
   "execution_count": 13,
   "metadata": {},
   "outputs": [
    {
     "name": "stdout",
     "output_type": "stream",
     "text": [
      "tensor([2, 3])\n"
     ]
    }
   ],
   "source": [
    "# Slice of th e 3th to 4th values of the tensor\n",
    "print(X[2:4])"
   ]
  },
  {
   "cell_type": "markdown",
   "metadata": {},
   "source": [
    "<h3>Practice</h3>"
   ]
  },
  {
   "cell_type": "code",
   "execution_count": null,
   "metadata": {},
   "outputs": [],
   "source": [
    "# Practice: \n",
    "# 1. Create a tensor whose starting value is 1, ending value 5  and the gap between each pair of adjacent points is 0.5.\n",
    "# SEE: https://pytorch.org/docs/stable/generated/torch.arange.html\n",
    "# 2. Slice to the 4th value to the end"
   ]
  },
  {
   "cell_type": "markdown",
   "metadata": {},
   "source": [
    "Double-click <b>here</b> for the solution.\n",
    "\n",
    "<!-- \n",
    "tensor = torch.arange(1, 5, 0.5)\n",
    "print(tensor[3:])\n",
    "-->"
   ]
  },
  {
   "cell_type": "markdown",
   "metadata": {},
   "source": [
    "<h2 id=\"Tensor_Func\">Tensor Functions</h2>\n",
    "As well as in numpy, you can use math function in pyTorch. For example: mean(), min(), sin() etc."
   ]
  },
  {
   "cell_type": "code",
   "execution_count": 14,
   "metadata": {},
   "outputs": [
    {
     "name": "stdout",
     "output_type": "stream",
     "text": [
      "Tensor example:  tensor([ 1., -1.,  1., -1.])\n",
      "Mean:  tensor(0.)\n",
      "Min:  tensor(-1.)\n"
     ]
    }
   ],
   "source": [
    "math_tensor = torch.tensor([1.0, -1.0, 1, -1])\n",
    "print(\"Tensor example: \", math_tensor)\n",
    "print(\"Mean: \", math_tensor.mean())\n",
    "print(\"Min: \", math_tensor.min())"
   ]
  },
  {
   "cell_type": "markdown",
   "metadata": {},
   "source": [
    "<h1>Torch Tensors in 2D</h1>\n",
    "<h2 id=\"Types_Shape\">Types and Shape</h2>\n",
    "\n",
    "<h2>Objective</h2><ul><li> How to perform tensor operations on 2D tensors.</li></ul> \n",
    "You can also use <code>torch.tensor()</code> which we used for converting a 1D list to 1D tensor, to convert a 2D list."
   ]
  },
  {
   "cell_type": "code",
   "execution_count": 15,
   "metadata": {},
   "outputs": [
    {
     "name": "stdout",
     "output_type": "stream",
     "text": [
      "The 2D list: \n",
      " [[11, 12, 13], [21, 22, 23], [31, 32, 33]]\n",
      "The New 2D Tensor: \n",
      " tensor([[11, 12, 13],\n",
      "        [21, 22, 23],\n",
      "        [31, 32, 33]])\n"
     ]
    }
   ],
   "source": [
    "# Convert 2D List to 2D Tensor\n",
    "\n",
    "twoD_list = [[11, 12, 13], \n",
    "             [21, 22, 23], \n",
    "             [31, 32, 33]]\n",
    "twoD_tensor = torch.tensor(twoD_list)\n",
    "print(\"The 2D list: \\n\", twoD_list)\n",
    "print(\"The New 2D Tensor: \\n\", twoD_tensor)"
   ]
  },
  {
   "cell_type": "markdown",
   "metadata": {},
   "source": [
    "Let us try <code><i>tensor_obj</i>.ndimension()</code> (<code>tensor_obj</code>: This can be any tensor object), <code><i>tensor_obj</i>.shape</code>, and <code><i>tensor_obj</i>.size()</code>"
   ]
  },
  {
   "cell_type": "code",
   "execution_count": 16,
   "metadata": {},
   "outputs": [
    {
     "name": "stdout",
     "output_type": "stream",
     "text": [
      "The dimension of twoD_tensor:  2\n",
      "The shape of twoD_tensor:  torch.Size([3, 3])\n",
      "The shape of twoD_tensor:  torch.Size([3, 3])\n",
      "The number of elements in twoD_tensor:  9\n"
     ]
    }
   ],
   "source": [
    "# Try tensor_obj.ndimension(), tensor_obj.shape, tensor_obj.size()\n",
    "\n",
    "print(\"The dimension of twoD_tensor: \", twoD_tensor.ndimension())\n",
    "print(\"The shape of twoD_tensor: \", twoD_tensor.shape)\n",
    "print(\"The shape of twoD_tensor: \", twoD_tensor.size())\n",
    "print(\"The number of elements in twoD_tensor: \", twoD_tensor.numel())"
   ]
  },
  {
   "cell_type": "markdown",
   "metadata": {},
   "source": [
    "You can use also all the functions of the first part: <code>.numpy()</code> etc.\n",
    "\n",
    "\n",
    "Use the  <code><i>.view()<i> </code> method to reshape a tensor. This method receives heavy use, because many neural network components expect their inputs to have a certain shape. Often you will need to reshape before passing your data to the component."
   ]
  },
  {
   "cell_type": "code",
   "execution_count": 17,
   "metadata": {},
   "outputs": [
    {
     "name": "stdout",
     "output_type": "stream",
     "text": [
      "tensor([[[ 0.4297,  0.4462, -0.2242,  0.9838],\n",
      "         [ 1.1611, -1.0686, -0.9206, -0.3552],\n",
      "         [ 0.6997,  0.8456,  0.2159,  1.0449]],\n",
      "\n",
      "        [[ 0.1783, -1.1267, -1.2097,  1.5483],\n",
      "         [ 0.0744,  0.6559,  0.6743,  0.8468],\n",
      "         [-0.0260, -0.2684,  2.0385, -0.3797]]])\n",
      "tensor([[ 0.4297,  0.4462, -0.2242,  0.9838,  1.1611, -1.0686, -0.9206, -0.3552,\n",
      "          0.6997,  0.8456,  0.2159,  1.0449],\n",
      "        [ 0.1783, -1.1267, -1.2097,  1.5483,  0.0744,  0.6559,  0.6743,  0.8468,\n",
      "         -0.0260, -0.2684,  2.0385, -0.3797]])\n"
     ]
    }
   ],
   "source": [
    "x = torch.randn(2, 3, 4)\n",
    "print(x)\n",
    "print(x.view(2, 12))  # Reshape to 2 rows, 12 columns"
   ]
  },
  {
   "cell_type": "markdown",
   "metadata": {},
   "source": [
    "<h2 id=\"Specific matrix\">Types and Shape</h2>"
   ]
  },
  {
   "cell_type": "code",
   "execution_count": 18,
   "metadata": {},
   "outputs": [
    {
     "name": "stdout",
     "output_type": "stream",
     "text": [
      "x = tensor([[1., 1.],\n",
      "        [1., 1.],\n",
      "        [1., 1.]]) \n",
      "\n",
      "x = tensor([[0.3356, 0.7179],\n",
      "        [0.7475, 0.0601],\n",
      "        [0.8653, 0.0630]]) \n",
      "\n"
     ]
    }
   ],
   "source": [
    "# Identity\n",
    "x = torch.ones(3,2)\n",
    "print('x =',x,'\\n')\n",
    "# Random floats\n",
    "x = torch.rand(3, 2)\n",
    "print('x =',x,'\\n')"
   ]
  },
  {
   "cell_type": "markdown",
   "metadata": {},
   "source": [
    "<h2 id=\"Index_Slice\">Indexing and Slicing</h2>\n"
   ]
  },
  {
   "cell_type": "code",
   "execution_count": 19,
   "metadata": {},
   "outputs": [
    {
     "name": "stdout",
     "output_type": "stream",
     "text": [
      "What is the value on 2nd-row 3rd-column?  23\n",
      "What is the value on 2nd-row 3rd-column?  23\n"
     ]
    }
   ],
   "source": [
    "# Use tensor_obj[row, column] OR tensor_obj[row][column] to access certain position\n",
    "\n",
    "tensor_example = torch.tensor([[11, 12, 13], [21, 22, 23], [31, 32, 33]])\n",
    "print(\"What is the value on 2nd-row 3rd-column? \", tensor_example[1, 2].item())\n",
    "print(\"What is the value on 2nd-row 3rd-column? \", tensor_example[1][2].item())"
   ]
  },
  {
   "cell_type": "code",
   "execution_count": 20,
   "metadata": {},
   "outputs": [
    {
     "name": "stdout",
     "output_type": "stream",
     "text": [
      "What is the value on 1st-row first two columns?  tensor([11, 12])\n",
      "What is the value on 1st-row first two columns?  tensor([11, 12])\n"
     ]
    }
   ],
   "source": [
    "# Use tensor_obj[begin_row_number: end_row_number, begin_column_number: end_column number] \n",
    "# and tensor_obj[row][begin_column_number: end_column number] to do the slicing\n",
    "\n",
    "tensor_example = torch.tensor([[11, 12, 13], [21, 22, 23], [31, 32, 33]])\n",
    "print(\"What is the value on 1st-row first two columns? \", tensor_example[0, 0:2])\n",
    "print(\"What is the value on 1st-row first two columns? \", tensor_example[0][0:2])"
   ]
  },
  {
   "cell_type": "code",
   "execution_count": null,
   "metadata": {},
   "outputs": [],
   "source": [
    "# Practice: \n",
    "# Try to change the values on the second column to 0.\n",
    "# Use slice and index to change the values on the matrix tensor_example.\n"
   ]
  },
  {
   "cell_type": "markdown",
   "metadata": {},
   "source": [
    "Double-click <b>here</b> for the solution.\n",
    "\n",
    "<!--\n",
    "tensor_example[0:3, 1] = 0\n",
    "print(\"The result: \", tensor_example)\n",
    "-->\n"
   ]
  },
  {
   "cell_type": "markdown",
   "metadata": {},
   "source": [
    "<h2 id=\"Tensor_Op\">Tensor Operations</h2> \n",
    "<h3>Tensor Addition</h3>\n"
   ]
  },
  {
   "cell_type": "code",
   "execution_count": null,
   "metadata": {},
   "outputs": [],
   "source": [
    "a = torch.tensor([1, 2])\n",
    "b = torch.tensor([8, 9])\n",
    "\n",
    "c = a + b\n",
    "print('c =', c)\n"
   ]
  },
  {
   "cell_type": "markdown",
   "metadata": {},
   "source": [
    "<h3> Scalar Multiplication </h3>\n"
   ]
  },
  {
   "cell_type": "code",
   "execution_count": null,
   "metadata": {},
   "outputs": [],
   "source": [
    "d = 3 * a\n",
    "print('a =', a)\n",
    "print('d = ',d)"
   ]
  },
  {
   "cell_type": "markdown",
   "metadata": {},
   "source": [
    "<h3>Element-wise Product/Hadamard Product</h3>\n"
   ]
  },
  {
   "cell_type": "code",
   "execution_count": null,
   "metadata": {},
   "outputs": [],
   "source": [
    "e = a * b\n",
    "print('a =', a)\n",
    "print('b = ',b)\n",
    "print('e = a*b =',e)"
   ]
  },
  {
   "cell_type": "markdown",
   "metadata": {},
   "source": [
    "<h3>Matrix Multiplication </h3>\n",
    "We use <code>torch.mm()</code> for calculating the multiplication between tensors with different sizes.\n"
   ]
  },
  {
   "cell_type": "code",
   "execution_count": null,
   "metadata": {},
   "outputs": [],
   "source": [
    "# Calculate [[0, 1, 1], [1, 0, 1]] * [[1, 1], [1, 1], [-1, 1]]\n",
    "\n",
    "A = torch.tensor([[0, 1, 1], [1, 0, 1]])\n",
    "B = torch.tensor([[1, 1], [1, 1], [-1, 1]])\n",
    "A_times_B = torch.mm(A,B)\n",
    "print(\"The result of A * B: \", A_times_B)"
   ]
  },
  {
   "cell_type": "markdown",
   "metadata": {},
   "source": [
    "<h3>Practice</h3>\n",
    "Try to create your own two tensors (<code>X</code> and <code>Y</code>) with different sizes, and multiply them.\n"
   ]
  },
  {
   "cell_type": "code",
   "execution_count": null,
   "metadata": {},
   "outputs": [],
   "source": [
    "# Practice: Calculate the product of two tensors (X and Y) with different sizes such as below\n",
    "\n",
    "# Type your code here\n"
   ]
  },
  {
   "cell_type": "markdown",
   "metadata": {},
   "source": [
    "Double-click <b>here</b> for the solution.\n",
    "\n",
    "<!--\n",
    "X = torch.tensor([[0, 1], [1, 2]])\n",
    "Y = torch.tensor([[-1, -2, 0], [2, 1, 2]])\n",
    "X_times_Y = torch.mm(X, Y)\n",
    "print(\"The result of X * Y: \", X_times_Y)\n",
    "-->"
   ]
  }
 ],
 "metadata": {
  "hide_input": false,
  "kernelspec": {
   "display_name": "Python 3",
   "language": "python",
   "name": "python3"
  },
  "language_info": {
   "codemirror_mode": {
    "name": "ipython",
    "version": 3
   },
   "file_extension": ".py",
   "mimetype": "text/x-python",
   "name": "python",
   "nbconvert_exporter": "python",
   "pygments_lexer": "ipython3",
   "version": "3.7.9"
  }
 },
 "nbformat": 4,
 "nbformat_minor": 4
}
